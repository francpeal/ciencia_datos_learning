{
 "cells": [
  {
   "cell_type": "markdown",
   "id": "5941d5c6-b723-498a-ac27-3522f1913324",
   "metadata": {},
   "source": [
    "# Data Science Tools and Ecosystem"
   ]
  },
  {
   "cell_type": "markdown",
   "id": "5fbd5fb6-907a-4757-a41a-9e46a92a8d58",
   "metadata": {},
   "source": [
    "In this notebook, Data Science Tools and Ecosystem are summarized.\n",
    "<hr>"
   ]
  },
  {
   "cell_type": "markdown",
   "id": "f3c2080e-77aa-4749-823e-93b33520189e",
   "metadata": {},
   "source": [
    "Some of the popular languages that Data Scientists use are:\n",
    "1. Python\n",
    "2. R\n",
    "3. SQL\n",
    "4. C++\n",
    "5. Java\n",
    "6. Scala\n",
    "7. Ruby\n",
    "8. Go\n",
    "9. Visual Basic"
   ]
  },
  {
   "cell_type": "markdown",
   "id": "0b13abd8-093b-464e-b415-a5214c85e773",
   "metadata": {},
   "source": [
    "Some of the commonly used libraries used by Data Scientists include:\n",
    "1. Pandas\n",
    "2. NumPy\n",
    "3. Seaborn\n",
    "4. Matplotlib\n",
    "5. Scikit-learn\n",
    "6. PyTorch\n",
    "7. Apache Spark\n",
    "8. ggplot2\n",
    "9. Keras"
   ]
  },
  {
   "cell_type": "markdown",
   "id": "3c14a5d7-e17f-412f-aecc-ed37682d663d",
   "metadata": {},
   "source": [
    "|Data Science Tools|\n",
    "|------------------|\n",
    "|Anaconda|\n",
    "|Jupyter Notebooks|\n",
    "|R Studio|\n",
    "|Spyder|\n",
    "|Zeppelin|"
   ]
  },
  {
   "cell_type": "markdown",
   "id": "04bb83f6-4eba-4f90-a021-515ff1f415b4",
   "metadata": {},
   "source": [
    "### Below are a few examples of evaluating arithmetic expressions in Python\n",
    "1. **Suma**:\n",
    "   La suma de 5 y 3 es:  \n",
    "   \\( 5 + 3 = 8 \\)\n",
    "\n",
    "2. **Resta**:\n",
    "   La resta de 10 y 4 es:  \n",
    "   \\( 10 - 4 = 6 \\)\n"
   ]
  },
  {
   "cell_type": "code",
   "execution_count": 3,
   "id": "397b87be-c36b-49f6-acff-c699bbf74ffb",
   "metadata": {},
   "outputs": [
    {
     "data": {
      "text/plain": [
       "17"
      ]
     },
     "execution_count": 3,
     "metadata": {},
     "output_type": "execute_result"
    }
   ],
   "source": [
    "(3*4)+5\n",
    "#This a simple arithmetic expression to mutiply then add integers"
   ]
  },
  {
   "cell_type": "code",
   "execution_count": 5,
   "id": "abe2b34d-929a-4d92-a14e-db906b3a0f15",
   "metadata": {},
   "outputs": [
    {
     "name": "stdout",
     "output_type": "stream",
     "text": [
      "200 minutos equivalen a 3 horas y 20 minutos\n"
     ]
    }
   ],
   "source": [
    "#This will convert 200 minutes to hours by diving by 60\n",
    "minutos = 200\n",
    "horas = minutos//60\n",
    "min_restantes = minutos%60\n",
    "print(f\"{minutos} minutos equivalen a {horas} horas y {min_restantes} minutos\")"
   ]
  },
  {
   "cell_type": "markdown",
   "id": "7f04a170-481f-4327-b6ce-bfca53c2bc33",
   "metadata": {},
   "source": [
    "### Objectives:\n",
    "* Aprender Python para ciencia de datos\n",
    "* Desarrollar habilidades en análisis de datos\n",
    "* Implementar proyectos de Machine Learning\n",
    "* Dominar el uso de Jupyter Notebooks\n",
    "* Trabajar con bases de datos SQL y NoSQL"
   ]
  },
  {
   "cell_type": "markdown",
   "id": "374f68bc-f542-460b-abb7-06c32e4ff7bf",
   "metadata": {},
   "source": [
    "## Author \n",
    "FRANCISCO PEREZ ALTAMIRANO"
   ]
  }
 ],
 "metadata": {
  "kernelspec": {
   "display_name": "Python 3 (ipykernel)",
   "language": "python",
   "name": "python3"
  },
  "language_info": {
   "codemirror_mode": {
    "name": "ipython",
    "version": 3
   },
   "file_extension": ".py",
   "mimetype": "text/x-python",
   "name": "python",
   "nbconvert_exporter": "python",
   "pygments_lexer": "ipython3",
   "version": "3.12.3"
  }
 },
 "nbformat": 4,
 "nbformat_minor": 5
}
