{
 "cells": [
  {
   "cell_type": "markdown",
   "id": "d027fa24-b1fb-4d7e-92f3-c5cd505a0599",
   "metadata": {},
   "source": [
    "# Final Test"
   ]
  },
  {
   "cell_type": "markdown",
   "id": "762b3ba6-501a-4716-98c2-e13e71a42899",
   "metadata": {},
   "source": [
    "## Esta es una introducción al cuaderno"
   ]
  },
  {
   "cell_type": "markdown",
   "id": "117fd6cf-7028-4b95-a373-3ba8b9058829",
   "metadata": {},
   "source": [
    "### Lenguajes para ciencias de datos:\n",
    "1. Python\n",
    "2. R"
   ]
  },
  {
   "cell_type": "markdown",
   "id": "64092e59-7872-4cbc-9ab0-212ec8773d67",
   "metadata": {},
   "source": [
    "### Bibliotecas para ciencia de datos:\n",
    "1. Pandas\n",
    "2. NumPy\n",
    "3. Matplotlib\n",
    "4. Seaborn\n",
    "5. SciPy\n",
    "6. Scikit-learn\n",
    "7. TensorFlow\n",
    "8. dplyr\n",
    "9. ggplot2\n",
    "10. tidyr\n",
    "11. caret\n",
    "12. shiny"
   ]
  },
  {
   "cell_type": "markdown",
   "id": "02b97240-2b9a-4087-8771-b2af4f1c2930",
   "metadata": {},
   "source": [
    "### Herramientas para ciencia de datos:\n",
    "|Nombre|Descripción|\n",
    "|------|-----------|\n",
    "|Jupyter Notebook|Entorno interactivo|\n",
    "|RStudio|Entorno de desarrollo para R|\n",
    "|PyCharm|Un IDE avanzado de desarrollo para python|\n",
    "|VSCode|Editor código ligero|"
   ]
  },
  {
   "cell_type": "markdown",
   "id": "ceef5a95-de6e-4f19-8316-4d229211da3a",
   "metadata": {},
   "source": [
    "### Ejemplos de Expresiones Aritméticas\n",
    "1. **Suma**:\n",
    "   La suma de 5 y 3 es:  \n",
    "   \\( 5 + 3 = 8 \\)\n",
    "\n",
    "2. **Resta**:\n",
    "   La resta de 10 y 4 es:  \n",
    "   \\( 10 - 4 = 6 \\)"
   ]
  },
  {
   "cell_type": "code",
   "execution_count": 5,
   "id": "8d1df491-248f-4fcc-b38f-f1e25923b4b2",
   "metadata": {},
   "outputs": [
    {
     "name": "stdin",
     "output_type": "stream",
     "text": [
      "Ingrese un primer número: 12\n",
      "Ingrese un segundo número: 3\n"
     ]
    },
    {
     "name": "stdout",
     "output_type": "stream",
     "text": [
      "La multiplicación de 12 y 3 es 36\n",
      "La división de 12 y 3 es 4.0\n"
     ]
    }
   ],
   "source": [
    "num1 = int(input(\"Ingrese un primer número:\"))\n",
    "num2 = int(input(\"Ingrese un segundo número:\"))\n",
    "prod = num1*num2\n",
    "divi = num1/num2\n",
    "print(f\"La multiplicación de {num1} y {num2} es {prod}\")\n",
    "print(f\"La división de {num1} y {num2} es {divi}\")"
   ]
  },
  {
   "cell_type": "code",
   "execution_count": 6,
   "id": "9572818d-0d4d-4677-b9ab-d17ac51bc2ac",
   "metadata": {},
   "outputs": [
    {
     "name": "stdin",
     "output_type": "stream",
     "text": [
      "Ingrese el número de minutos: 150\n"
     ]
    },
    {
     "name": "stdout",
     "output_type": "stream",
     "text": [
      "150 equivalen a 2 horas y 30 minutos\n"
     ]
    }
   ],
   "source": [
    "minutos = int(input(\"Ingrese el número de minutos:\"))\n",
    "horas = minutos//60\n",
    "min_restantes = minutos%60\n",
    "print(f\"{minutos} equivalen a {horas} horas y {min_restantes} minutos\")"
   ]
  },
  {
   "cell_type": "markdown",
   "id": "c3af0c22-6a89-48f4-b39a-a2092c9fc2e6",
   "metadata": {},
   "source": [
    "### Lista de Objetivos\n",
    "\n",
    "- Aprender Python para ciencia de datos\n",
    "- Desarrollar habilidades en análisis de datos\n",
    "- Implementar proyectos de Machine Learning\n",
    "- Dominar el uso de Jupyter Notebooks\n",
    "- Trabajar con bases de datos SQL y NoSQL\n",
    "  "
   ]
  },
  {
   "cell_type": "markdown",
   "id": "b9539113-2383-45b3-a064-2c8841075ebc",
   "metadata": {},
   "source": [
    "### Autor\n",
    "\n",
    "El autor de este contenido es: **Francisco Pérez Altamirano**"
   ]
  },
  {
   "cell_type": "code",
   "execution_count": null,
   "id": "78ec2249-8172-43fb-a1ee-68b4de0e4f86",
   "metadata": {},
   "outputs": [],
   "source": []
  }
 ],
 "metadata": {
  "kernelspec": {
   "display_name": "Python 3 (ipykernel)",
   "language": "python",
   "name": "python3"
  },
  "language_info": {
   "codemirror_mode": {
    "name": "ipython",
    "version": 3
   },
   "file_extension": ".py",
   "mimetype": "text/x-python",
   "name": "python",
   "nbconvert_exporter": "python",
   "pygments_lexer": "ipython3",
   "version": "3.12.3"
  }
 },
 "nbformat": 4,
 "nbformat_minor": 5
}
